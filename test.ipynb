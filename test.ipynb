{
 "cells": [
  {
   "cell_type": "code",
   "execution_count": 1,
   "metadata": {},
   "outputs": [],
   "source": [
    "import pandas as pd\n",
    "import datetime"
   ]
  },
  {
   "cell_type": "code",
   "execution_count": 2,
   "metadata": {},
   "outputs": [],
   "source": [
    "class Processing:\n",
    "    def __init__(self,file_name) -> None:\n",
    "        self.file_name = file_name\n",
    "        self.df = pd.read_csv(self.file_name + '.csv')\n",
    "        self.is_processing = False\n",
    "\n",
    "    @staticmethod\n",
    "    def convert_date(date_string):\n",
    "        date_string = date_string.strip()\n",
    "        dt_object = datetime.datetime.strptime(date_string, \"%B %d, %Y\")\n",
    "        return dt_object.strftime(\"%d/%m/%Y\")\n",
    "    \n",
    "    def processing(self):\n",
    "        # tách country&time\n",
    "        parts = self.df['country&time'].str.split(pat='in | on',expand=True, n = 2)\n",
    "        self.df['country'] = parts[1]\n",
    "        self.df['time'] = parts[2]\n",
    "        self.df = self.df.drop(columns=['country&time'])\n",
    "\n",
    "        # convert time\n",
    "        self.df['time'] = self.df['time'].apply(Processing.convert_date)\n",
    "\n",
    "        # sắp xếp lại các cột\n",
    "        columns_order = ['user', 'star', 'time', 'kind item', 'sumary', 'comment', 'image', 'country']\n",
    "        self.df = self.df.reindex(columns=columns_order)\n",
    "\n",
    "    def get_df_after_processing(self):\n",
    "        if not self.is_processing:\n",
    "            self.processing()\n",
    "            self.is_processing = True\n",
    "        return self.df\n",
    "    \n",
    "    def save(self):\n",
    "        if not self.is_processing:\n",
    "            self.processing()\n",
    "            self.is_processing = True\n",
    "        file_name = '.\\\\Processed\\\\' + self.file_name +'.csv'\n",
    "        self.df.to_csv(file_name, header=False, index = False,mode='a')"
   ]
  },
  {
   "cell_type": "code",
   "execution_count": 3,
   "metadata": {},
   "outputs": [],
   "source": [
    "# go = Processing('SteelSeries New Arctis Nova 3 Multi-Platform Gaming Headset') # đã lưu\n",
    "go = Processing('Razer DeathAdder Essential Gaming Mouse') # đã lưu\n",
    "go.save()# xử lí và lưu\n"
   ]
  },
  {
   "cell_type": "code",
   "execution_count": null,
   "metadata": {},
   "outputs": [],
   "source": []
  }
 ],
 "metadata": {
  "kernelspec": {
   "display_name": "manhtms1",
   "language": "python",
   "name": "python3"
  },
  "language_info": {
   "codemirror_mode": {
    "name": "ipython",
    "version": 3
   },
   "file_extension": ".py",
   "mimetype": "text/x-python",
   "name": "python",
   "nbconvert_exporter": "python",
   "pygments_lexer": "ipython3",
   "version": "3.10.10"
  }
 },
 "nbformat": 4,
 "nbformat_minor": 2
}
