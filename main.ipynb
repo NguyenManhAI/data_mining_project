{
 "cells": [
  {
   "cell_type": "code",
   "execution_count": 1,
   "metadata": {},
   "outputs": [
    {
     "name": "stderr",
     "output_type": "stream",
     "text": [
      "c:\\Users\\buisa\\AppData\\Local\\miniconda3\\envs\\testenv\\lib\\site-packages\\tqdm\\auto.py:21: TqdmWarning: IProgress not found. Please update jupyter and ipywidgets. See https://ipywidgets.readthedocs.io/en/stable/user_install.html\n",
      "  from .autonotebook import tqdm as notebook_tqdm\n"
     ]
    }
   ],
   "source": [
    "import torch\n",
    "import torch.nn as nn\n",
    "\n",
    "\n",
    "from torch.nn.utils.rnn import pack_padded_sequence, pad_packed_sequence\n",
    "import random\n",
    "import torch.optim.lr_scheduler as lr_scheduler\n",
    "import math\n",
    "import nltk.data\n",
    "import nltk\n",
    "from sentence_transformers import SentenceTransformer # embedding câu\n",
    "\n",
    "class LSTMModel(nn.Module):\n",
    "    def __init__(self, embedding_dim = 384, hidden_dim = 128, output_dim = 1, dropout = 0.2, numlayers = 1, bidirectional = False):\n",
    "        super(LSTMModel, self).__init__()\n",
    "        self.num_layers = numlayers\n",
    "        self.D = 2 if bidirectional else 1\n",
    "\n",
    "        self.hidden_dim = hidden_dim # có giá trị tự do\n",
    "        self.embedding_dim = embedding_dim # chiều của embedding, vd: [1,2,3,...300]: 1 embedding có kích thước là 300\n",
    "        self.lstm = nn.LSTM(embedding_dim, hidden_dim,batch_first=True, num_layers = numlayers, dropout = dropout, bidirectional=bidirectional) # đầu vào của LSTM là có kích thước embedding và đầu ra có kích thước hidden, xây dựng 1 mô hình LSTM\n",
    "        # input_size = embedding_dim; hidden_size, num_layer\n",
    "        # tuning ở ngay trên\n",
    "        self.fc = nn.Linear(self.D*hidden_dim, output_dim) # 1 fully conected để làm đầu ra\n",
    "\n",
    "\n",
    "\n",
    "    def forward(self, inputs):\n",
    "\n",
    "        '''\n",
    "        đầu vào input lần lượt là: batch_size, sequence_length, embedding_dim\n",
    "        '''\n",
    "        # inputs = torch.nn.utils.rnn.pack_padded_sequence(inputs, )\n",
    "        batch_size = inputs.batch_sizes[0].item()#input ở đây chính là 1 batch mà chúng ta cho vào, và tập huấn luyện của chúng ta chứa những inputs này\n",
    "\n",
    "        hidden = self.init_hidden(batch_size)\n",
    "        lstm_out, _ = self.lstm(inputs, hidden)\n",
    "\n",
    "        # Giải nén lstm_out\n",
    "        padded_outputs, _ = pad_packed_sequence(lstm_out, batch_first=True)\n",
    "\n",
    "\n",
    "        padded_outputs = padded_outputs[:, -1, :]\n",
    "\n",
    "        output = self.fc(padded_outputs)\n",
    "        return output\n",
    "    def init_hidden(self, batch_size):\n",
    "        return (torch.zeros(self.D * self.num_layers, batch_size, self.hidden_dim),# gồm 1 phần chứa batch_size 'phần', 'phần' chứa hidden_dim units\n",
    "                torch.zeros(self.D * self.num_layers, batch_size, self.hidden_dim))\n"
   ]
  },
  {
   "cell_type": "code",
   "execution_count": 2,
   "metadata": {},
   "outputs": [],
   "source": [
    "def text2embedding(model_embedding, sentence):\n",
    "    model = model_embedding\n",
    "    # Sentences are encoded by calling model.encode()\n",
    "    embedding = model.encode(sentence)\n",
    "\n",
    "    return torch.Tensor(embedding) if len(embedding.shape) >= 2 else torch.Tensor([embedding])"
   ]
  },
  {
   "cell_type": "code",
   "execution_count": 3,
   "metadata": {},
   "outputs": [],
   "source": [
    "model_embedding = SentenceTransformer('paraphrase-MiniLM-L6-v2')\n",
    "def predict(model,model_embedding,text, speed = 1):\n",
    "    tokenizer = nltk.data.load('english.pickle')\n",
    "    tokens = tokenizer.tokenize(text)\n",
    "\n",
    "    max_sequence_length = math.ceil(len(tokens) / speed)\n",
    "\n",
    "    indices = random.sample(range(len(tokens)), max_sequence_length)\n",
    "    indices.sort()\n",
    "    tokens = [tokens[i] for i in indices]\n",
    "\n",
    "    new_data = text2embedding(model_embedding,tokens)\n",
    "    new_data = new_data.unsqueeze(0)\n",
    "\n",
    "    sequence_lengths = [len(seq) for seq in new_data]\n",
    "\n",
    "    new_data = pack_padded_sequence(new_data, sequence_lengths, batch_first=True)\n",
    "\n",
    "    model.eval()\n",
    "    with torch.no_grad():\n",
    "        inputs = new_data\n",
    "        outputs = model(inputs)#gọi hàm forward\n",
    "\n",
    "        proba_label = torch.sigmoid(outputs)\n",
    "        predict_label = (torch.sigmoid(outputs) > 0.5).float()\n",
    "\n",
    "\n",
    "    return proba_label.item(), 'positive' if predict_label == 1 else 'negative'\n",
    "\n",
    "    "
   ]
  },
  {
   "cell_type": "code",
   "execution_count": 4,
   "metadata": {},
   "outputs": [
    {
     "name": "stderr",
     "output_type": "stream",
     "text": [
      "c:\\Users\\buisa\\AppData\\Local\\miniconda3\\envs\\testenv\\lib\\site-packages\\torch\\nn\\modules\\rnn.py:83: UserWarning: dropout option adds dropout after all but last recurrent layer, so non-zero dropout expects num_layers greater than 1, but got dropout=0.2 and num_layers=1\n",
      "  warnings.warn(\"dropout option adds dropout after all but last \"\n"
     ]
    },
    {
     "data": {
      "text/plain": [
       "<All keys matched successfully>"
      ]
     },
     "execution_count": 4,
     "metadata": {},
     "output_type": "execute_result"
    }
   ],
   "source": [
    "path_best_parameter_model = 'best_params_model.pkl'\n",
    "model = LSTMModel()\n",
    "model.load_state_dict(torch.load(path_best_parameter_model))\n",
    "\n"
   ]
  },
  {
   "cell_type": "code",
   "execution_count": 5,
   "metadata": {},
   "outputs": [],
   "source": [
    "text = '''\n",
    "As someone who relies on multiple electronic devices daily, I was in need of a reliable and affordable power strip. The AmazonBasics 6-Outlet, 200 Joule Surge Protector Power Strip has proven to be a great solution, providing functionality and peace of mind at an attractive price point.\n",
    "\n",
    "The AmazonBasics power strip offers six outlets, which is more than enough to accommodate my various devices, including my computer, monitor, speakers, and phone charger. The 2-foot cord is not the longest, but it has been sufficient for my needs and helps to minimize cable clutter.\n",
    "\n",
    "The 200 Joule surge protection rating provides a basic level of protection for my devices, safeguarding them against power surges and spikes. While it may not be the highest level of protection available, it is suitable for everyday use and offers reassurance that my valuable electronics are secure.\n",
    "\n",
    "The power strip's design is simple and unobtrusive, making it easy to blend into any room or workspace. The white color and slim profile do not draw attention, allowing it to integrate seamlessly into my setup.\n",
    "\n",
    "One minor drawback is the lack of USB ports for charging devices directly, but this is not a deal-breaker considering the budget-friendly price and the primary purpose of the power strip.\n",
    "\n",
    "Overall, the AmazonBasics 6-Outlet, 200 Joule Surge Protector Power Strip is an excellent value, offering reliable functionality and basic surge protection at an affordable price. For those seeking a simple and effective solution for managing multiple devices, this power strip is a solid choice.\n",
    "'''"
   ]
  },
  {
   "cell_type": "code",
   "execution_count": 6,
   "metadata": {},
   "outputs": [
    {
     "data": {
      "text/plain": [
       "(0.9763833284378052, 'positive')"
      ]
     },
     "execution_count": 6,
     "metadata": {},
     "output_type": "execute_result"
    }
   ],
   "source": [
    "predict(model, model_embedding, text)"
   ]
  },
  {
   "cell_type": "code",
   "execution_count": 18,
   "metadata": {},
   "outputs": [],
   "source": [
    "import pandas as pd\n",
    "import numpy as np\n",
    "import joblib"
   ]
  },
  {
   "cell_type": "code",
   "execution_count": 19,
   "metadata": {},
   "outputs": [
    {
     "data": {
      "text/html": [
       "<div>\n",
       "<style scoped>\n",
       "    .dataframe tbody tr th:only-of-type {\n",
       "        vertical-align: middle;\n",
       "    }\n",
       "\n",
       "    .dataframe tbody tr th {\n",
       "        vertical-align: top;\n",
       "    }\n",
       "\n",
       "    .dataframe thead th {\n",
       "        text-align: right;\n",
       "    }\n",
       "</style>\n",
       "<table border=\"1\" class=\"dataframe\">\n",
       "  <thead>\n",
       "    <tr style=\"text-align: right;\">\n",
       "      <th></th>\n",
       "      <th>User</th>\n",
       "      <th>Number of star</th>\n",
       "      <th>Date</th>\n",
       "      <th>Type of Product</th>\n",
       "      <th>Review Title</th>\n",
       "      <th>Review Content</th>\n",
       "      <th>Image in Review</th>\n",
       "      <th>Label</th>\n",
       "    </tr>\n",
       "  </thead>\n",
       "  <tbody>\n",
       "    <tr>\n",
       "      <th>0</th>\n",
       "      <td>Green Mario</td>\n",
       "      <td>2</td>\n",
       "      <td>01/02/2023</td>\n",
       "      <td>10ft - Black</td>\n",
       "      <td>Nope.</td>\n",
       "      <td>Probably the worst-quality thing I've ever bou...</td>\n",
       "      <td>1</td>\n",
       "      <td>Negative</td>\n",
       "    </tr>\n",
       "    <tr>\n",
       "      <th>1</th>\n",
       "      <td>Ann</td>\n",
       "      <td>5</td>\n",
       "      <td>01/10/2024</td>\n",
       "      <td>Mercury White</td>\n",
       "      <td>Pretty, simple, and great quality!</td>\n",
       "      <td>I own this mouse in both colors now and use it...</td>\n",
       "      <td>1</td>\n",
       "      <td>Positive</td>\n",
       "    </tr>\n",
       "    <tr>\n",
       "      <th>2</th>\n",
       "      <td>Matthew DeClue</td>\n",
       "      <td>4</td>\n",
       "      <td>04/19/2023</td>\n",
       "      <td>Black - Arctis 5</td>\n",
       "      <td>Great sound and durable</td>\n",
       "      <td>3rd set I've owned, not sure I'd buy a differe...</td>\n",
       "      <td>0</td>\n",
       "      <td>Positive</td>\n",
       "    </tr>\n",
       "    <tr>\n",
       "      <th>3</th>\n",
       "      <td>Brenda</td>\n",
       "      <td>1</td>\n",
       "      <td>02/06/2023</td>\n",
       "      <td>10ft - Black</td>\n",
       "      <td>It stopped working!</td>\n",
       "      <td>The plug and cord both stopped working. I've o...</td>\n",
       "      <td>1</td>\n",
       "      <td>Negative</td>\n",
       "    </tr>\n",
       "    <tr>\n",
       "      <th>4</th>\n",
       "      <td>Ivy</td>\n",
       "      <td>5</td>\n",
       "      <td>03/12/2024</td>\n",
       "      <td>Classic Black</td>\n",
       "      <td>Best mouse</td>\n",
       "      <td>It had the best connection and it had good RGB...</td>\n",
       "      <td>0</td>\n",
       "      <td>Positive</td>\n",
       "    </tr>\n",
       "  </tbody>\n",
       "</table>\n",
       "</div>"
      ],
      "text/plain": [
       "             User  Number of star        Date   Type of Product  \\\n",
       "0     Green Mario               2  01/02/2023      10ft - Black   \n",
       "1             Ann               5  01/10/2024     Mercury White   \n",
       "2  Matthew DeClue               4  04/19/2023  Black - Arctis 5   \n",
       "3          Brenda               1  02/06/2023      10ft - Black   \n",
       "4             Ivy               5  03/12/2024     Classic Black   \n",
       "\n",
       "                         Review Title  \\\n",
       "0                               Nope.   \n",
       "1  Pretty, simple, and great quality!   \n",
       "2             Great sound and durable   \n",
       "3                 It stopped working!   \n",
       "4                          Best mouse   \n",
       "\n",
       "                                      Review Content  Image in Review  \\\n",
       "0  Probably the worst-quality thing I've ever bou...                1   \n",
       "1  I own this mouse in both colors now and use it...                1   \n",
       "2  3rd set I've owned, not sure I'd buy a differe...                0   \n",
       "3  The plug and cord both stopped working. I've o...                1   \n",
       "4  It had the best connection and it had good RGB...                0   \n",
       "\n",
       "      Label  \n",
       "0  Negative  \n",
       "1  Positive  \n",
       "2  Positive  \n",
       "3  Negative  \n",
       "4  Positive  "
      ]
     },
     "execution_count": 19,
     "metadata": {},
     "output_type": "execute_result"
    }
   ],
   "source": [
    "data_val = pd.read_csv('data/data_val.csv')\n",
    "data_val.head()"
   ]
  },
  {
   "cell_type": "code",
   "execution_count": 20,
   "metadata": {},
   "outputs": [],
   "source": [
    "X_val = data_val['Review Title'] + ' ' + data_val['Review Content']\n",
    "y_val = (data_val['Label'] == 'Positive').astype(int)"
   ]
  },
  {
   "cell_type": "code",
   "execution_count": 21,
   "metadata": {},
   "outputs": [
    {
     "data": {
      "text/plain": [
       "0    Nope. Probably the worst-quality thing I've ev...\n",
       "1    Pretty, simple, and great quality! I own this ...\n",
       "2    Great sound and durable 3rd set I've owned, no...\n",
       "3    It stopped working! The plug and cord both sto...\n",
       "4    Best mouse It had the best connection and it h...\n",
       "dtype: object"
      ]
     },
     "execution_count": 21,
     "metadata": {},
     "output_type": "execute_result"
    }
   ],
   "source": [
    "X_val.head()"
   ]
  },
  {
   "cell_type": "code",
   "execution_count": 22,
   "metadata": {},
   "outputs": [
    {
     "data": {
      "text/plain": [
       "0    0\n",
       "1    1\n",
       "2    1\n",
       "3    0\n",
       "4    1\n",
       "Name: Label, dtype: int32"
      ]
     },
     "execution_count": 22,
     "metadata": {},
     "output_type": "execute_result"
    }
   ],
   "source": [
    "y_val.head()"
   ]
  },
  {
   "cell_type": "code",
   "execution_count": 23,
   "metadata": {},
   "outputs": [],
   "source": [
    "from sklearn.metrics import accuracy_score, recall_score, precision_score, f1_score"
   ]
  },
  {
   "cell_type": "code",
   "execution_count": 24,
   "metadata": {},
   "outputs": [],
   "source": [
    "df = pd.DataFrame()"
   ]
  },
  {
   "cell_type": "code",
   "execution_count": 25,
   "metadata": {},
   "outputs": [
    {
     "data": {
      "text/plain": [
       "(0.696078431372549, 0.8225806451612904, 0.7183098591549296, 0.7669172932330828)"
      ]
     },
     "execution_count": 25,
     "metadata": {},
     "output_type": "execute_result"
    }
   ],
   "source": [
    "tfidf_svc_model = joblib.load('model/sam_model.pkl')\n",
    "y_pred = tfidf_svc_model.predict(X_val)\n",
    "\n",
    "acc1 = accuracy_score(y_true=y_val, y_pred=y_pred)\n",
    "rec1 = recall_score(y_true=y_val, y_pred=y_pred)\n",
    "pre1 = precision_score(y_true=y_val, y_pred=y_pred)\n",
    "f11 = f1_score(y_true=y_val, y_pred=y_pred)\n",
    "\n",
    "df['Tfidf - SVC'] = np.array([acc1, rec1, pre1, f11])\n",
    "\n",
    "acc1, rec1, pre1, f11"
   ]
  },
  {
   "cell_type": "code",
   "execution_count": 26,
   "metadata": {},
   "outputs": [
    {
     "data": {
      "text/plain": [
       "(0.6078431372549019, 1.0, 0.6078431372549019, 0.7560975609756097)"
      ]
     },
     "execution_count": 26,
     "metadata": {},
     "output_type": "execute_result"
    }
   ],
   "source": [
    "y_pred = []\n",
    "for comment in X_val:\n",
    "    proba, label = predict(model, model_embedding, text)\n",
    "    if label == 'positive':\n",
    "        label = 1\n",
    "    else:\n",
    "        label = 0\n",
    "    y_pred.append(label)\n",
    "y_pred = np.array(y_pred)\n",
    "\n",
    "acc2 = accuracy_score(y_true=y_val, y_pred=y_pred)\n",
    "rec2 = recall_score(y_true=y_val, y_pred=y_pred)\n",
    "pre2 = precision_score(y_true=y_val, y_pred=y_pred)\n",
    "f12 = f1_score(y_true=y_val, y_pred=y_pred)\n",
    "\n",
    "df['LSTM'] = np.array([acc2, rec2, pre2, f12])\n",
    "\n",
    "acc2, rec2, pre2, f12"
   ]
  },
  {
   "cell_type": "code",
   "execution_count": null,
   "metadata": {},
   "outputs": [],
   "source": [
    "df.to_csv('result compare tfidf-svc model with LSTM model.csv', index=False)"
   ]
  },
  {
   "cell_type": "code",
   "execution_count": 15,
   "metadata": {},
   "outputs": [
    {
     "data": {
      "text/html": [
       "<div>\n",
       "<style scoped>\n",
       "    .dataframe tbody tr th:only-of-type {\n",
       "        vertical-align: middle;\n",
       "    }\n",
       "\n",
       "    .dataframe tbody tr th {\n",
       "        vertical-align: top;\n",
       "    }\n",
       "\n",
       "    .dataframe thead th {\n",
       "        text-align: right;\n",
       "    }\n",
       "</style>\n",
       "<table border=\"1\" class=\"dataframe\">\n",
       "  <thead>\n",
       "    <tr style=\"text-align: right;\">\n",
       "      <th></th>\n",
       "      <th>User</th>\n",
       "      <th>Number of star</th>\n",
       "      <th>Date</th>\n",
       "      <th>Type of Product</th>\n",
       "      <th>Review Title</th>\n",
       "      <th>Review Content</th>\n",
       "      <th>Image in Review</th>\n",
       "      <th>Label</th>\n",
       "    </tr>\n",
       "  </thead>\n",
       "  <tbody>\n",
       "    <tr>\n",
       "      <th>0</th>\n",
       "      <td>Cameron Germano</td>\n",
       "      <td>3</td>\n",
       "      <td>01/04/2023</td>\n",
       "      <td>Mercury White</td>\n",
       "      <td>You Get What You Pay For</td>\n",
       "      <td>This mouse is a great value, but it is priced ...</td>\n",
       "      <td>0</td>\n",
       "      <td>Positive</td>\n",
       "    </tr>\n",
       "    <tr>\n",
       "      <th>1</th>\n",
       "      <td>Prophet Paladin</td>\n",
       "      <td>3</td>\n",
       "      <td>21/04/2023</td>\n",
       "      <td>10ft - Silver</td>\n",
       "      <td>not 100w</td>\n",
       "      <td>Only charges up to 20W (with a 50W charger)</td>\n",
       "      <td>1</td>\n",
       "      <td>Negative</td>\n",
       "    </tr>\n",
       "    <tr>\n",
       "      <th>2</th>\n",
       "      <td>D.r. M.</td>\n",
       "      <td>4</td>\n",
       "      <td>30/01/2024</td>\n",
       "      <td>10ft - Black</td>\n",
       "      <td>Dual type connections</td>\n",
       "      <td>Bought this to replace an a to c cable that qu...</td>\n",
       "      <td>1</td>\n",
       "      <td>Positive</td>\n",
       "    </tr>\n",
       "    <tr>\n",
       "      <th>3</th>\n",
       "      <td>Gindjurra</td>\n",
       "      <td>5</td>\n",
       "      <td>10/30/2023</td>\n",
       "      <td>Classic Black</td>\n",
       "      <td>The best all around basic gaming mouse I've ev...</td>\n",
       "      <td>Like the headline says - and to expand on it, ...</td>\n",
       "      <td>0</td>\n",
       "      <td>Positive</td>\n",
       "    </tr>\n",
       "    <tr>\n",
       "      <th>4</th>\n",
       "      <td>James Seedorff</td>\n",
       "      <td>2</td>\n",
       "      <td>11/09/2021</td>\n",
       "      <td>10ft - Black</td>\n",
       "      <td>Feels like bait and switch, not 100w capable</td>\n",
       "      <td>PROS: Long USB C to USB C cable.CONS: Does not...</td>\n",
       "      <td>1</td>\n",
       "      <td>Negative</td>\n",
       "    </tr>\n",
       "  </tbody>\n",
       "</table>\n",
       "</div>"
      ],
      "text/plain": [
       "              User  Number of star        Date Type of Product  \\\n",
       "0  Cameron Germano               3  01/04/2023   Mercury White   \n",
       "1  Prophet Paladin               3  21/04/2023   10ft - Silver   \n",
       "2          D.r. M.               4  30/01/2024    10ft - Black   \n",
       "3        Gindjurra               5  10/30/2023   Classic Black   \n",
       "4   James Seedorff               2  11/09/2021    10ft - Black   \n",
       "\n",
       "                                        Review Title  \\\n",
       "0                           You Get What You Pay For   \n",
       "1                                           not 100w   \n",
       "2                              Dual type connections   \n",
       "3  The best all around basic gaming mouse I've ev...   \n",
       "4       Feels like bait and switch, not 100w capable   \n",
       "\n",
       "                                      Review Content  Image in Review  \\\n",
       "0  This mouse is a great value, but it is priced ...                0   \n",
       "1        Only charges up to 20W (with a 50W charger)                1   \n",
       "2  Bought this to replace an a to c cable that qu...                1   \n",
       "3  Like the headline says - and to expand on it, ...                0   \n",
       "4  PROS: Long USB C to USB C cable.CONS: Does not...                1   \n",
       "\n",
       "      Label  \n",
       "0  Positive  \n",
       "1  Negative  \n",
       "2  Positive  \n",
       "3  Positive  \n",
       "4  Negative  "
      ]
     },
     "execution_count": 15,
     "metadata": {},
     "output_type": "execute_result"
    }
   ],
   "source": [
    "data_test = pd.read_csv('data/data_test.csv')\n",
    "data_test.head()"
   ]
  },
  {
   "cell_type": "code",
   "execution_count": 16,
   "metadata": {},
   "outputs": [],
   "source": [
    "X_test = data_test['Review Title'] + ' ' + data_test['Review Content']\n",
    "y_test = (data_test['Label'] == 'Positive').astype(int)"
   ]
  },
  {
   "cell_type": "code",
   "execution_count": 17,
   "metadata": {},
   "outputs": [
    {
     "data": {
      "text/plain": [
       "(0.6080402010050251, 1.0, 0.6080402010050251, 0.75625)"
      ]
     },
     "execution_count": 17,
     "metadata": {},
     "output_type": "execute_result"
    }
   ],
   "source": [
    "y_pred = []\n",
    "for comment in X_test:\n",
    "    proba, label = predict(model, model_embedding, text)\n",
    "    if label == 'positive':\n",
    "        label = 1\n",
    "    else:\n",
    "        label = 0\n",
    "    y_pred.append(label)\n",
    "y_pred = np.array(y_pred)\n",
    "\n",
    "acc2 = accuracy_score(y_true=y_test, y_pred=y_pred)\n",
    "rec2 = recall_score(y_true=y_test, y_pred=y_pred)\n",
    "pre2 = precision_score(y_true=y_test, y_pred=y_pred)\n",
    "f12 = f1_score(y_true=y_test, y_pred=y_pred)\n",
    "\n",
    "acc2, rec2, pre2, f12"
   ]
  },
  {
   "cell_type": "code",
   "execution_count": null,
   "metadata": {},
   "outputs": [],
   "source": []
  }
 ],
 "metadata": {
  "kernelspec": {
   "display_name": "manhtms1",
   "language": "python",
   "name": "python3"
  },
  "language_info": {
   "codemirror_mode": {
    "name": "ipython",
    "version": 3
   },
   "file_extension": ".py",
   "mimetype": "text/x-python",
   "name": "python",
   "nbconvert_exporter": "python",
   "pygments_lexer": "ipython3",
   "version": "3.10.13"
  }
 },
 "nbformat": 4,
 "nbformat_minor": 2
}
